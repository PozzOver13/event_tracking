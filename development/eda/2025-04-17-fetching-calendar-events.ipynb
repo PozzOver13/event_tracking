{
 "cells": [
  {
   "metadata": {},
   "cell_type": "markdown",
   "source": "# How to fetch calendar events",
   "id": "c03021ee99513e2e"
  },
  {
   "cell_type": "code",
   "execution_count": null,
   "id": "initial_id",
   "metadata": {
    "collapsed": true
   },
   "outputs": [],
   "source": [
    "from event_tracking.components.calendar import fetch_calendar_events\n",
    "\n",
    "events = fetch_calendar_events(30)"
   ]
  }
 ],
 "metadata": {
  "kernelspec": {
   "display_name": "Python 3",
   "language": "python",
   "name": "python3"
  },
  "language_info": {
   "codemirror_mode": {
    "name": "ipython",
    "version": 2
   },
   "file_extension": ".py",
   "mimetype": "text/x-python",
   "name": "python",
   "nbconvert_exporter": "python",
   "pygments_lexer": "ipython2",
   "version": "2.7.6"
  }
 },
 "nbformat": 4,
 "nbformat_minor": 5
}
