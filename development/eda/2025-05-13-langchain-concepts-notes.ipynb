{
 "cells": [
  {
   "metadata": {},
   "cell_type": "markdown",
   "source": [
    "\n",
    "## 🔍 **LangChain: Overview della libreria**\n",
    "\n",
    "### 🎯 **Perché LangChain?**\n",
    "\n",
    "LangChain, sia come **libreria Python** che come **azienda**, ha come obiettivo principale quello di **semplificare lo sviluppo di applicazioni che ragionano** utilizzando modelli linguistici di grandi dimensioni (LLM).\n",
    "\n",
    "### 💡 **Problemi chiave affrontati da LangChain**\n",
    "\n",
    "LangChain si propone di risolvere tre bisogni fondamentali nello sviluppo di applicazioni AI basate su LLM:\n",
    "\n",
    "1. **Interfacce standardizzate** per componenti riutilizzabili (prompt, LLM, memory, strumenti, agenti).\n",
    "2. **Orchestrazione** delle componenti per creare pipeline complesse.\n",
    "3. **Osservabilità e valutazione**, per monitorare e migliorare il comportamento dei modelli in produzione.\n",
    "\n",
    "\n",
    "### 🧠 **Architettura Cognitiva**\n",
    "\n",
    "LangChain adotta una **struttura modulare** in cui ogni componente dell'applicazione contribuisce a una sorta di \"architettura cognitiva\" del sistema. Queste componenti includono:\n",
    "\n",
    "* **Chains**: sequenze di chiamate a LLM o strumenti.\n",
    "* **Agents**: modelli che decidono dinamicamente quali azioni compiere.\n",
    "* **Retrievers**: moduli per il recupero di informazioni da fonti esterne.\n",
    "\n",
    "> Questi elementi **non sono legati a integrazioni specifiche**, ma sono **generici e riutilizzabili** in qualunque contesto.\n",
    "\n",
    "\n",
    "### 🔌 **Integrazioni**\n",
    "\n",
    "LangChain distingue tra il core della libreria e le integrazioni esterne. Le **integrazioni con modelli e servizi terzi** sono gestite in **pacchetti separati**, ad esempio:\n",
    "\n",
    "* `langchain-openai`\n",
    "* `langchain-anthropic`\n",
    "* `langchain-mistral`\n",
    "  Questa modularità **migliora la leggerezza** e la **gestione delle versioni**.\n",
    "\n",
    "\n",
    "### 🚀 **Funzionalità avanzate con i modelli di nuova generazione**\n",
    "\n",
    "LangChain sfrutta appieno le **API avanzate dei modelli recenti**, abilitando nuovi casi d'uso:\n",
    "\n",
    "* **Tool Calling**\n",
    "  Permette ai modelli di interagire direttamente con strumenti esterni (API, database, servizi), arricchendo il comportamento dell'agente.\n",
    "\n",
    "* **Structured Output**\n",
    "  Fa sì che il modello restituisca risposte in formati strutturati (es. JSON validati su schema), facilitando l'integrazione con pipeline software.\n",
    "\n",
    "* **Multimodalità**\n",
    "  Supporta input e output multimodali (immagini, audio, video) oltre al solo testo.\n",
    "\n",
    "\n",
    "### 📚 Risorse principali\n",
    "\n",
    "* Documentazione ufficiale: [LangChain Docs](https://python.langchain.com/docs/concepts/)\n",
    "\n",
    "\n"
   ],
   "id": "4c98285cd5298693"
  },
  {
   "cell_type": "code",
   "execution_count": null,
   "id": "initial_id",
   "metadata": {
    "collapsed": true
   },
   "outputs": [],
   "source": [
    ""
   ]
  }
 ],
 "metadata": {
  "kernelspec": {
   "display_name": "Python 3",
   "language": "python",
   "name": "python3"
  },
  "language_info": {
   "codemirror_mode": {
    "name": "ipython",
    "version": 2
   },
   "file_extension": ".py",
   "mimetype": "text/x-python",
   "name": "python",
   "nbconvert_exporter": "python",
   "pygments_lexer": "ipython2",
   "version": "2.7.6"
  }
 },
 "nbformat": 4,
 "nbformat_minor": 5
}
