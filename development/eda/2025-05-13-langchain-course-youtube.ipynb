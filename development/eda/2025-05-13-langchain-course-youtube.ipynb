{
 "cells": [
  {
   "metadata": {},
   "cell_type": "markdown",
   "source": [
    "# 🔍 **LangChain: Overview della libreria**\n",
    "\n",
    "🎯 **Perché LangChain?**\n",
    "\n",
    "LangChain, sia come **libreria Python** che come **azienda**, ha come obiettivo principale quello di **semplificare lo sviluppo di applicazioni che ragionano** utilizzando modelli linguistici di grandi dimensioni (LLM).\n",
    "\n",
    "💡 **Problemi chiave affrontati da LangChain**\n",
    "\n",
    "LangChain si propone di risolvere tre bisogni fondamentali nello sviluppo di applicazioni AI basate su LLM:\n",
    "\n",
    "1. **Interfacce standardizzate** per componenti riutilizzabili (prompt, LLM, memory, strumenti, agenti).\n",
    "2. **Orchestrazione** delle componenti per creare pipeline complesse.\n",
    "3. **Osservabilità e valutazione**, per monitorare e migliorare il comportamento dei modelli in produzione.\n",
    "\n",
    "\n",
    "🧠 **Architettura Cognitiva**\n",
    "\n",
    "LangChain adotta una **struttura modulare** in cui ogni componente dell'applicazione contribuisce a una sorta di \"architettura cognitiva\" del sistema. Queste componenti includono:\n",
    "\n",
    "* **Chains**: sequenze di chiamate a LLM o strumenti.\n",
    "* **Agents**: modelli che decidono dinamicamente quali azioni compiere.\n",
    "* **Retrievers**: moduli per il recupero di informazioni da fonti esterne.\n",
    "\n",
    "> Questi elementi **non sono legati a integrazioni specifiche**, ma sono **generici e riutilizzabili** in qualunque contesto.\n",
    "\n",
    "\n",
    "🔌 **Integrazioni**\n",
    "\n",
    "LangChain distingue tra il core della libreria e le integrazioni esterne. Le **integrazioni con modelli e servizi terzi** sono gestite in **pacchetti separati**, ad esempio:\n",
    "\n",
    "* `langchain-openai`\n",
    "* `langchain-anthropic`\n",
    "* `langchain-mistral`\n",
    "  Questa modularità **migliora la leggerezza** e la **gestione delle versioni**.\n",
    "\n",
    "\n",
    "🚀 **Funzionalità avanzate con i modelli di nuova generazione**\n",
    "\n",
    "LangChain sfrutta appieno le **API avanzate dei modelli recenti**, abilitando nuovi casi d'uso:\n",
    "\n",
    "* **Tool Calling**\n",
    "  Permette ai modelli di interagire direttamente con strumenti esterni (API, database, servizi), arricchendo il comportamento dell'agente.\n",
    "\n",
    "* **Structured Output**\n",
    "  Fa sì che il modello restituisca risposte in formati strutturati (es. JSON validati su schema), facilitando l'integrazione con pipeline software.\n",
    "\n",
    "* **Multimodalità**\n",
    "  Supporta input e output multimodali (immagini, audio, video) oltre al solo testo.\n",
    "\n",
    "\n",
    "📚 Risorse principali\n",
    "\n",
    "* Documentazione ufficiale: [LangChain Docs](https://python.langchain.com/docs/concepts/)"
   ],
   "id": "2c9a8092eec91ba"
  },
  {
   "metadata": {},
   "cell_type": "markdown",
   "source": [
    "# LangChain Expression Language\n",
    "\n",
    "Il **LangChain Expression Language (LCEL)** è una **nuova sintassi dichiarativa** introdotta da LangChain per **comporre pipeline di LLM** (modelli di linguaggio) in modo semplice, leggibile e modulare.\n",
    "\n",
    "---\n",
    "\n",
    "### 🧠 In breve: cos'è LCEL?\n",
    "\n",
    "È un **mini-linguaggio interno a Python** che ti permette di costruire catene (`chains`) di operazioni LLM **come fossero funzioni componibili**, usando una sintassi **simile a quella delle espressioni matematiche o dei DSL (Domain-Specific Language)**.\n",
    "\n",
    "---\n",
    "\n",
    "### ✅ Obiettivo\n",
    "\n",
    "LCEL nasce per:\n",
    "\n",
    "* Facilitare la **composizione di più step** (prompting, parsing, tool calling, ecc.).\n",
    "* Ridurre il **boilerplate code**.\n",
    "* Rendere le catene **più leggibili e testabili**.\n",
    "* Rendere LangChain più **declarativo** (come una DAG) rispetto all’approccio puramente imperativo (`SequentialChain`, `LLMChain`, ecc.).\n",
    "\n",
    "---\n",
    "\n",
    "### 🔧 Esempio base (senza LCEL)\n",
    "\n",
    "Tradizionalmente, avresti scritto:\n",
    "\n",
    "```python\n",
    "from langchain.prompts import PromptTemplate\n",
    "from langchain.chains import LLMChain\n",
    "from langchain_openai import ChatOpenAI\n",
    "\n",
    "llm = ChatOpenAI()\n",
    "prompt = PromptTemplate.from_template(\"Come si dice '{word}' in inglese?\")\n",
    "\n",
    "chain = LLMChain(llm=llm, prompt=prompt)\n",
    "result = chain.run(\"ciao\")\n",
    "```\n",
    "\n",
    "---\n",
    "\n",
    "### ✨ Stesso esempio con LCEL\n",
    "\n",
    "```python\n",
    "from langchain_core.prompts import PromptTemplate\n",
    "from langchain_openai import ChatOpenAI\n",
    "\n",
    "llm = ChatOpenAI()\n",
    "prompt = PromptTemplate.from_template(\"Come si dice '{word}' in inglese?\")\n",
    "\n",
    "chain = prompt | llm\n",
    "\n",
    "result = chain.invoke({\"word\": \"ciao\"})\n",
    "```\n",
    "\n",
    "> Noti la **pipeline** `|` che unisce i pezzi: `prompt` → `llm`\n",
    "\n",
    "---\n",
    "\n",
    "### 🧩 Composizione modulare\n",
    "\n",
    "Puoi aggiungere facilmente altre parti alla catena:\n",
    "\n",
    "```python\n",
    "from langchain.output_parsers import StrOutputParser\n",
    "\n",
    "chain = prompt | llm | StrOutputParser()\n",
    "```\n",
    "\n",
    "Oppure combinare più input/output usando `RunnableMap` o `RunnableLambda`.\n",
    "\n",
    "---\n",
    "\n",
    "### 📦 Tipi di componenti che puoi combinare in LCEL\n",
    "\n",
    "* `PromptTemplate`\n",
    "* `LLM` (es. `ChatOpenAI`)\n",
    "* `OutputParser`\n",
    "* `RunnableLambda` (funzioni custom)\n",
    "* `RunnableMap` (parallelizzazione)\n",
    "* `RunnableSequence` (catene complesse)\n",
    "* `Retrieval`, `ToolCall`, `FunctionCall`\n",
    "\n",
    "---\n",
    "\n",
    "### 🧪 Esempio più avanzato\n",
    "\n",
    "```python\n",
    "from langchain_core.runnables import RunnableLambda\n",
    "from langchain.output_parsers import JsonOutputParser\n",
    "\n",
    "def enrich_input(x):\n",
    "    return {\"word\": x.upper()}\n",
    "\n",
    "parser = JsonOutputParser()\n",
    "\n",
    "chain = (\n",
    "    RunnableLambda(enrich_input) |\n",
    "    prompt |\n",
    "    llm |\n",
    "    parser\n",
    ")\n",
    "\n",
    "result = chain.invoke(\"ciao\")\n",
    "```\n",
    "\n",
    "---\n",
    "\n",
    "### 📈 Vantaggi di LCEL\n",
    "\n",
    "| Vantaggio               | Descrizione                                  |                 |\n",
    "| ----------------------- | -------------------------------------------- | --------------- |\n",
    "| ✅ Leggibile             | Codice più chiaro e lineare                  |                 |\n",
    "| ✅ Componibile           | Puoi unire moduli con \\`                     | \\` come in Unix |\n",
    "| ✅ Testing facile        | Ogni blocco può essere testato separatamente |                 |\n",
    "| ✅ Supporta streaming    | Supporto nativo a `.stream()`                |                 |\n",
    "| ✅ Asincrono e parallelo | Con `.ainvoke()`, `.batch()`, ecc.           |                 |\n",
    "\n",
    "---\n",
    "\n",
    "### 🔚 Conclusione\n",
    "\n",
    "Il **LangChain Expression Language (LCEL)** è un modo **moderno e modulare** per costruire catene LLM con LangChain, che sostituisce (o affianca) l'approccio più tradizionale con `LLMChain` e `SequentialChain`.\n",
    "\n"
   ],
   "id": "676b6470a3e2118c"
  },
  {
   "metadata": {},
   "cell_type": "markdown",
   "source": "# Youtube Course \"LangChain Mastery in 2025 | Full 5 Hour Course [LangChain v0.3]\"",
   "id": "8390110f61d1a254"
  },
  {
   "metadata": {},
   "cell_type": "markdown",
   "source": [
    "## Intro\n",
    "\n",
    "https://github.com/aurelio-labs/langchain-course/blob/main/chapters/01-intro.ipynb"
   ],
   "id": "f3a24319b1b07852"
  },
  {
   "cell_type": "code",
   "id": "initial_id",
   "metadata": {
    "collapsed": true,
    "ExecuteTime": {
     "end_time": "2025-05-16T07:46:11.533582Z",
     "start_time": "2025-05-16T07:46:08.421316Z"
    }
   },
   "source": [
    "# from langchain_community.llms import Ollama\n",
    "#\n",
    "# llm = Ollama(model=\"gemma2:2b\", temperature=0)\n",
    "\n",
    "from langchain_openai import ChatOpenAI\n",
    "\n",
    "from dotenv import load_dotenv, find_dotenv\n",
    "\n",
    "_ = load_dotenv(find_dotenv())  # read local .env file\n",
    "#openai.api_key = os.environ['OPENAI_API_KEY']\n",
    "\n",
    "llm = ChatOpenAI(model_name=\"gpt-3.5-turbo\", temperature=0)"
   ],
   "outputs": [],
   "execution_count": 1
  },
  {
   "metadata": {
    "ExecuteTime": {
     "end_time": "2025-05-16T07:46:23.400638Z",
     "start_time": "2025-05-16T07:46:23.394169Z"
    }
   },
   "cell_type": "code",
   "source": [
    "article = \"\"\"\n",
    "\\\n",
    "We believe AI's short—to mid-term future belongs to agents and that the long-term future of *AGI* may evolve from agentic systems. Our definition of agents covers any neuro-symbolic system in which we merge neural AI (such as an LLM) with semi-traditional software.\n",
    "\n",
    "With agents, we allow LLMs to integrate with code — allowing AI to search the web, perform math, and essentially integrate into anything we can build with code. It should be clear the scope of use cases is phenomenal where AI can integrate with the broader world of software.\n",
    "\n",
    "In this introduction to AI agents, we will cover the essential concepts that make them what they are and why that will make them the core of real-world AI in the years to come.\n",
    "\n",
    "---\n",
    "\n",
    "## Neuro-Symbolic Systems\n",
    "\n",
    "Neuro-symbolic systems consist of both neural and symbolic computation, where:\n",
    "\n",
    "- Neural refers to LLMs, embedding models, or other neural network-based models.\n",
    "- Symbolic refers to logic containing symbolic logic, such as code.\n",
    "\n",
    "Both neural and symbolic AI originate from the early philosophical approaches to AI: connectionism (now neural) and symbolism. Symbolic AI is the more traditional AI. Diehard symbolists believed they could achieve true AGI via written rules, ontologies, and other logical functions.\n",
    "\n",
    "The other camp were the connectionists. Connectionism emerged in 1943 with a theoretical neural circuit but truly kicked off with Rosenblatt's perceptron paper in 1958 [1][2]. Both of these approaches to AI are fascinating but deserve more time than we can give them here, so we will leave further exploration of these concepts for a future chapter.\n",
    "\n",
    "Most important to us is understanding where symbolic logic outperforms neural-based compute and vice-versa.\n",
    "\n",
    "| Neural | Symbolic |\n",
    "| --- | --- |\n",
    "| Flexible, learned logic that can cover a huge range of potential scenarios. | Mostly hand-written rules which can be very granular and fine-tuned but hard to scale. |\n",
    "| Hard to interpret why a neural system does what it does. Very difficult or even impossible to predict behavior. | Rules are written and can be understood. When unsure why a particular ouput was produced we can look at the rules / logic to understand. |\n",
    "| Requires huge amount of data and compute to train state-of-the-art neural models, making it hard to add new abilities or update with new information. | Code is relatively cheap to write, it can be updated with new features easily, and latest information can often be added often instantaneously. |\n",
    "| When trained on broad datasets can often lack performance when exposed to unique scenarios that are not well represented in the training data. | Easily customized to unique scenarios. |\n",
    "| Struggles with complex computations such as mathematical operations. | Perform complex computations very quickly and accurately. |\n",
    "\n",
    "Pure neural architectures struggle with many seemingly simple tasks. For example, an LLM *cannot* provide an accurate answer if we ask it for today's date.\n",
    "\n",
    "Retrieval Augmented Generation (RAG) is commonly used to provide LLMs with up-to-date knowledge on a particular subject or access to proprietary knowledge.\n",
    "\n",
    "### Giving LLMs Superpowers\n",
    "\n",
    "By 2020, it was becoming clear that neural AI systems could not perform tasks symbolic systems typically excelled in, such as arithmetic, accessing structured DB data, or making API calls. These tasks require discrete input parameters that allow us to process them reliably according to strict written logic.\n",
    "\n",
    "In 2022, researchers at AI21 developed Jurassic-X, an LLM-based \"neuro-symbolic architecture.\" Neuro-symbolic refers to merging the \"neural computation\" of large language models (LLMs) with more traditional (i.e. symbolic) computation of code.\n",
    "\n",
    "Jurassic-X used the Modular Reasoning, Knowledge, and Language (MRKL) system [3]. The researchers developed MRKL to solve the limitations of LLMs, namely:\n",
    "\n",
    "- Lack of up-to-date knowledge, whether that is the latest in AI or something as simple as today's date.\n",
    "- Lack of proprietary knowledge, such as internal company docs or your calendar bookings.\n",
    "- Lack of reasoning, i.e. the inability to perform operations that traditional software is good at, like running complex mathematical operations.\n",
    "- Lack of ability to generalize. Back in 2022, most LLMs had to be fine-tuned to perform well in a specific domain. This problem is still present today but far less prominent as the SotA models generalize much better and, in the case of MRKL, are able to use tools relatively well (although we could certainly take the MRKL solution to improve tool use performance even today).\n",
    "\n",
    "MRKL represents one of the earliest forms of what we would now call an agent; it is an LLM (neural computation) paired with executable code (symbolic computation).\n",
    "\n",
    "## ReAct and Tools\n",
    "\n",
    "There is a misconception in the broader industry that an AI agent is an LLM contained within some looping logic that can generate inputs for and execute code functions. This definition of agents originates from the huge popularity of the ReAct agent framework and the adoption of a similar structure with function/tool calling by LLM providers such as OpenAI, Anthropic, and Ollama.\n",
    "\n",
    "![ReAct agent flow with the Reasoning-Action loop [4]. When the action chosen specifies to use a normal tool, the tool is used and the observation returned for another iteration through the Reasoning-Action loop. To return a final answer to the user the LLM must choose action \"answer\" and provide the natural language response, finishing the loop.](/images/posts/ai-agents/ai-agents-00.png)\n",
    "\n",
    "<small>ReAct agent flow with the Reasoning-Action loop [4]. When the action chosen specifies to use a normal tool, the tool is used and the observation returned for another iteration through the Reasoning-Action loop. To return a final answer to the user the LLM must choose action \"answer\" and provide the natural language response, finishing the loop.</small>\n",
    "\n",
    "Our \"neuro-symbolic\" definition is much broader but certainly does include ReAct agents and LLMs paired with tools. This agent type is the most common for now, so it's worth understanding the basic concept behind it.\n",
    "\n",
    "The **Re**ason **Act**ion (ReAct) method encourages LLMs to generate iterative *reasoning* and *action* steps. During *reasoning,* the LLM describes what steps are to be taken to answer the user's query. Then, the LLM generates an *action,* which we parse into an input to some executable code, which we typically describe as a tool/function call.\n",
    "\n",
    "![ReAct method. Each iteration includes a Reasoning step followed by an Action (tool call) step. The Observation is the output from the previous tool call. During the final iteration the agent calls the answer tool, meaning we generate the final answer for the user.](/images/posts/ai-agents/ai-agents-01.png)\n",
    "\n",
    "<small>ReAct method. Each iteration includes a Reasoning step followed by an Action (tool call) step. The Observation is the output from the previous tool call. During the final iteration the agent calls the answer tool, meaning we generate the final answer for the user.</small>\n",
    "\n",
    "Following the reason and action steps, our action tool call returns an observation. The logic returns the observation to the LLM, which is then used to generate subsequent reasoning and action steps.\n",
    "\n",
    "The ReAct loop continues until the LLM has enough information to answer the original input. Once the LLM reaches this state, it calls a special *answer* action with the generated answer for the user.\n",
    "\n",
    "## Not only LLMs and Tool Calls\n",
    "\n",
    "LLMs paired with tool calling are powerful but far from the only approach to building agents. Using the definition of neuro-symbolic, we cover architectures such as:\n",
    "\n",
    "- Multi-agent workflows that involve multiple LLM-tool (or other agent structure) combinations.\n",
    "- More deterministic workflows where we may have set neural model-tool paths that may fork or merge as the use case requires.\n",
    "- Embedding models that can detect user intents and decide tool-use or LLM selection-based selection in vector space.\n",
    "\n",
    "These are just a few high-level examples of alternative agent structures. Far from being designed for niche use cases, we find these alternative options to frequently perform better than the more common ReAct or Tool agents. We will cover all of these examples and more in future chapters.\n",
    "\n",
    "---\n",
    "\n",
    "Agents are fundamental to the future of AI, but that doesn't mean we should expect that future to come from agents in their most popular form today. ReAct and Tool agents are great and handle many simple use cases well, but the scope of agents is much broader, and we believe thinking beyond ReAct and Tools is key to building future AI.\n",
    "\n",
    "---\n",
    "\n",
    "You can sign up for the [Aurelio AI newsletter](https://b0fcw9ec53w.typeform.com/to/w2BDHVK7) to stay updated on future releases in our comprehensive course on agents.\n",
    "\n",
    "---\n",
    "\n",
    "## References\n",
    "\n",
    "[1] The curious case of Connectionism (2019) [https://www.degruyter.com/document/doi/10.1515/opphil-2019-0018/html](https://www.degruyter.com/document/doi/10.1515/opphil-2019-0018/html)\n",
    "\n",
    "[2] F. Rosenblatt, [The Perceptron: A Probabilistic Model for Information Storage and Organization in the Brain](https://www.ling.upenn.edu/courses/cogs501/Rosenblatt1958.pdf) (1958), Psychological Review\n",
    "\n",
    "[3] E. Karpas et al. [MRKL Systems: A Modular, Neuro-Symbolic Architecture That Combines Large Language Models, External Knowledge Sources and Discrete Reasoning](https://arxiv.org/abs/2205.00445) (2022), AI21 Labs\n",
    "\"\"\""
   ],
   "id": "24432c3371e854a5",
   "outputs": [],
   "execution_count": 2
  },
  {
   "metadata": {},
   "cell_type": "markdown",
   "source": "## First Prompt",
   "id": "2a705b61a585446d"
  },
  {
   "metadata": {
    "ExecuteTime": {
     "end_time": "2025-05-16T07:46:31.824950Z",
     "start_time": "2025-05-16T07:46:31.723798Z"
    }
   },
   "cell_type": "code",
   "source": [
    "from langchain.prompts import (\n",
    "    SystemMessagePromptTemplate,\n",
    "    HumanMessagePromptTemplate\n",
    ")\n",
    "\n",
    "# Defining the system prompt (how the AI should act)\n",
    "system_prompt = SystemMessagePromptTemplate.from_template(\n",
    "    \"You are an AI assistant called {name} that helps generate article titles.\",\n",
    "    input_variables=[\"name\"]\n",
    ")\n",
    "\n",
    "# the user prompt is provided by the user, in this case however the only dynamic\n",
    "# input is the article\n",
    "user_prompt = HumanMessagePromptTemplate.from_template(\n",
    "    \"\"\"You are tasked with creating a name for a article.\n",
    "The article is here for you to examine\n",
    "\n",
    "---\n",
    "{article}\n",
    "---\n",
    "\n",
    "The name should be based of the context of the article.\n",
    "Be creative, but make sure the names are clear, catchy,\n",
    "and relevant to the theme of the article.\n",
    "\n",
    "Only output the article name, no other explanation or\n",
    "text can be provided.\"\"\",\n",
    "    input_variables=[\"article\"]\n",
    ")"
   ],
   "id": "74f836198dae2e20",
   "outputs": [],
   "execution_count": 3
  },
  {
   "metadata": {
    "ExecuteTime": {
     "end_time": "2025-05-16T07:46:33.262556Z",
     "start_time": "2025-05-16T07:46:33.255807Z"
    }
   },
   "cell_type": "code",
   "source": "user_prompt.format(article=\"TEST STRING\")",
   "id": "3b2545ea01ba0a82",
   "outputs": [
    {
     "data": {
      "text/plain": [
       "HumanMessage(content='You are tasked with creating a name for a article.\\nThe article is here for you to examine\\n\\n---\\nTEST STRING\\n---\\n\\nThe name should be based of the context of the article.\\nBe creative, but make sure the names are clear, catchy,\\nand relevant to the theme of the article.\\n\\nOnly output the article name, no other explanation or\\ntext can be provided.', additional_kwargs={}, response_metadata={})"
      ]
     },
     "execution_count": 4,
     "metadata": {},
     "output_type": "execute_result"
    }
   ],
   "execution_count": 4
  },
  {
   "metadata": {
    "ExecuteTime": {
     "end_time": "2025-05-16T07:46:34.622423Z",
     "start_time": "2025-05-16T07:46:34.618316Z"
    }
   },
   "cell_type": "code",
   "source": "print(user_prompt.format(article=\"TEST STRING\").content)",
   "id": "80272c307d29aee9",
   "outputs": [
    {
     "name": "stdout",
     "output_type": "stream",
     "text": [
      "You are tasked with creating a name for a article.\n",
      "The article is here for you to examine\n",
      "\n",
      "---\n",
      "TEST STRING\n",
      "---\n",
      "\n",
      "The name should be based of the context of the article.\n",
      "Be creative, but make sure the names are clear, catchy,\n",
      "and relevant to the theme of the article.\n",
      "\n",
      "Only output the article name, no other explanation or\n",
      "text can be provided.\n"
     ]
    }
   ],
   "execution_count": 5
  },
  {
   "metadata": {
    "ExecuteTime": {
     "end_time": "2025-05-16T07:46:37.693995Z",
     "start_time": "2025-05-16T07:46:37.690587Z"
    }
   },
   "cell_type": "code",
   "source": [
    "from langchain.prompts import ChatPromptTemplate\n",
    "\n",
    "first_prompt = ChatPromptTemplate.from_messages([system_prompt, user_prompt])"
   ],
   "id": "fe5350d598b245ff",
   "outputs": [],
   "execution_count": 6
  },
  {
   "metadata": {
    "ExecuteTime": {
     "end_time": "2025-05-16T07:46:38.601782Z",
     "start_time": "2025-05-16T07:46:38.597386Z"
    }
   },
   "cell_type": "code",
   "source": "print(first_prompt.format(name=\"JARVIS\", article=\"TEST STRING\"))",
   "id": "ee083f86239be509",
   "outputs": [
    {
     "name": "stdout",
     "output_type": "stream",
     "text": [
      "System: You are an AI assistant called JARVIS that helps generate article titles.\n",
      "Human: You are tasked with creating a name for a article.\n",
      "The article is here for you to examine\n",
      "\n",
      "---\n",
      "TEST STRING\n",
      "---\n",
      "\n",
      "The name should be based of the context of the article.\n",
      "Be creative, but make sure the names are clear, catchy,\n",
      "and relevant to the theme of the article.\n",
      "\n",
      "Only output the article name, no other explanation or\n",
      "text can be provided.\n"
     ]
    }
   ],
   "execution_count": 7
  },
  {
   "metadata": {
    "ExecuteTime": {
     "end_time": "2025-05-16T07:46:43.180258Z",
     "start_time": "2025-05-16T07:46:43.176566Z"
    }
   },
   "cell_type": "code",
   "source": [
    "chain_one = (\n",
    "        {\n",
    "            \"article\": lambda x: x[\"article\"],\n",
    "            \"name\": lambda x: x[\"name\"]\n",
    "        }\n",
    "        | first_prompt\n",
    "        | llm\n",
    "        | {\"article_title\": lambda x: x.content}\n",
    ")"
   ],
   "id": "50c1506a3926ff12",
   "outputs": [],
   "execution_count": 8
  },
  {
   "metadata": {
    "ExecuteTime": {
     "end_time": "2025-05-16T07:46:46.369629Z",
     "start_time": "2025-05-16T07:46:45.049225Z"
    }
   },
   "cell_type": "code",
   "source": [
    "input_chain = {\"article\": article,\n",
    "               \"name\": \"JARVIS\"}\n",
    "article_title_msg = chain_one.invoke(input_chain)\n",
    "article_title_msg"
   ],
   "id": "a1a0239f3a956dc3",
   "outputs": [
    {
     "data": {
      "text/plain": [
       "{'article_title': '\"Unveiling the Future of AI: The Rise of Neuro-Symbolic Agents\"'}"
      ]
     },
     "execution_count": 9,
     "metadata": {},
     "output_type": "execute_result"
    }
   ],
   "execution_count": 9
  },
  {
   "metadata": {},
   "cell_type": "markdown",
   "source": "## Second Prompt",
   "id": "edb88303b63ae57d"
  },
  {
   "metadata": {
    "ExecuteTime": {
     "end_time": "2025-05-16T07:46:50.697300Z",
     "start_time": "2025-05-16T07:46:50.694251Z"
    }
   },
   "cell_type": "code",
   "source": [
    "second_user_prompt = HumanMessagePromptTemplate.from_template(\n",
    "    \"\"\"You are tasked with creating a description for\n",
    "the article. The article is here for you to examine:\n",
    "\n",
    "---\n",
    "\n",
    "{article}\n",
    "\n",
    "---\n",
    "\n",
    "Here is the article title '{article_title}'.\n",
    "\n",
    "Output the SEO friendly article description. Do not output\n",
    "anything other than the description.\"\"\",\n",
    "    input_variables=[\"article\", \"article_title\"]\n",
    ")\n",
    "\n",
    "second_prompt = ChatPromptTemplate.from_messages([\n",
    "    system_prompt,\n",
    "    second_user_prompt\n",
    "])"
   ],
   "id": "afa8a6c2c856cd0",
   "outputs": [],
   "execution_count": 10
  },
  {
   "metadata": {
    "ExecuteTime": {
     "end_time": "2025-05-16T07:46:54.943297Z",
     "start_time": "2025-05-16T07:46:54.939005Z"
    }
   },
   "cell_type": "code",
   "source": [
    "chain_two = (\n",
    "        {\n",
    "            \"name\": lambda x: x[\"name\"],\n",
    "            \"article\": lambda x: x[\"article\"],\n",
    "            \"article_title\": lambda x: x[\"article_title\"]\n",
    "        }\n",
    "        | second_prompt\n",
    "        | llm\n",
    "        | {\"summary\": lambda x: x.content}\n",
    ")"
   ],
   "id": "4ec498d67ddf646a",
   "outputs": [],
   "execution_count": 11
  },
  {
   "metadata": {
    "ExecuteTime": {
     "end_time": "2025-05-16T07:47:01.818415Z",
     "start_time": "2025-05-16T07:47:00.792567Z"
    }
   },
   "cell_type": "code",
   "source": [
    "article_description_msg = chain_two.invoke({\n",
    "    \"name\": \"JARVIS\",\n",
    "    \"article\": article,\n",
    "    \"article_title\": article_title_msg[\"article_title\"]\n",
    "})\n",
    "article_description_msg"
   ],
   "id": "766f125863828738",
   "outputs": [
    {
     "data": {
      "text/plain": [
       "{'summary': 'Discover how neuro-symbolic agents are shaping the future of AI, merging neural AI with traditional software to unlock a wide range of capabilities and applications. Explore the essential concepts behind AI agents and their pivotal role in real-world AI advancements.'}"
      ]
     },
     "execution_count": 12,
     "metadata": {},
     "output_type": "execute_result"
    }
   ],
   "execution_count": 12
  },
  {
   "metadata": {},
   "cell_type": "markdown",
   "source": "## Third Prompt",
   "id": "56c7f8a1c85cce59"
  },
  {
   "metadata": {
    "ExecuteTime": {
     "end_time": "2025-05-16T07:47:08.434269Z",
     "start_time": "2025-05-16T07:47:08.430563Z"
    }
   },
   "cell_type": "code",
   "source": [
    "third_user_prompt = HumanMessagePromptTemplate.from_template(\n",
    "    \"\"\"You are tasked with creating a new paragraph for the\n",
    "article. The article is here for you to examine:\n",
    "\n",
    "---\n",
    "\n",
    "{article}\n",
    "\n",
    "---\n",
    "\n",
    "Choose one paragraph to review and edit. During your edit\n",
    "ensure you provide constructive feedback to the user so they\n",
    "can learn where to improve their own writing.\"\"\",\n",
    "    input_variables=[\"article\"]\n",
    ")\n",
    "\n",
    "# prompt template 3: creating a new paragraph for the article\n",
    "third_prompt = ChatPromptTemplate.from_messages([\n",
    "    system_prompt,\n",
    "    third_user_prompt\n",
    "])"
   ],
   "id": "8b197787cbc2151c",
   "outputs": [],
   "execution_count": 13
  },
  {
   "metadata": {
    "ExecuteTime": {
     "end_time": "2025-05-16T07:47:11.972417Z",
     "start_time": "2025-05-16T07:47:11.937117Z"
    }
   },
   "cell_type": "code",
   "source": [
    "from pydantic import BaseModel, Field\n",
    "\n",
    "\n",
    "class Paragraph(BaseModel):\n",
    "    original_paragraph: str = Field(description=\"The original paragraph\")\n",
    "    edited_paragraph: str = Field(description=\"The improved edited paragraph\")\n",
    "    feedback: str = Field(description=(\n",
    "        \"Constructive feedback on the original paragraph\"\n",
    "    ))\n",
    "\n",
    "\n",
    "structured_llm = llm.with_structured_output(Paragraph)"
   ],
   "id": "81f67aaad8a039a9",
   "outputs": [
    {
     "name": "stderr",
     "output_type": "stream",
     "text": [
      "C:\\Users\\cg08900\\Documents\\Pandora\\github\\event_tracking\\.venv\\Lib\\site-packages\\langchain_openai\\chat_models\\base.py:1673: UserWarning: Cannot use method='json_schema' with model gpt-3.5-turbo since it doesn't support OpenAI's Structured Output API. You can see supported models here: https://platform.openai.com/docs/guides/structured-outputs#supported-models. To fix this warning, set `method='function_calling'. Overriding to method='function_calling'.\n",
      "  warnings.warn(\n"
     ]
    }
   ],
   "execution_count": 14
  },
  {
   "metadata": {
    "ExecuteTime": {
     "end_time": "2025-05-16T07:48:39.840642Z",
     "start_time": "2025-05-16T07:48:39.836803Z"
    }
   },
   "cell_type": "code",
   "source": [
    "# chain 3: inputs: article / output: article_para\n",
    "chain_three = (\n",
    "        {\"name\": lambda x: x[\"name\"],\n",
    "         \"article\": lambda x: x[\"article\"]}\n",
    "        | third_prompt\n",
    "        | structured_llm\n",
    "        | {\n",
    "            \"original_paragraph\": lambda x: x.original_paragraph,\n",
    "            \"edited_paragraph\": lambda x: x.edited_paragraph,\n",
    "            \"feedback\": lambda x: x.feedback\n",
    "        }\n",
    ")"
   ],
   "id": "69cc4d22ca3c9168",
   "outputs": [],
   "execution_count": 15
  },
  {
   "metadata": {
    "ExecuteTime": {
     "end_time": "2025-05-16T07:48:43.806983Z",
     "start_time": "2025-05-16T07:48:41.943094Z"
    }
   },
   "cell_type": "code",
   "source": [
    "out = chain_three.invoke(input_chain)\n",
    "out"
   ],
   "id": "5be691dba1785c40",
   "outputs": [
    {
     "data": {
      "text/plain": [
       "{'original_paragraph': \"Agents are fundamental to the future of AI, but that doesn't mean we should expect that future to come from agents in their most popular form today. ReAct and Tool agents are great and handle many simple use cases well, but the scope of agents is much broader, and we believe thinking beyond ReAct and Tools is key to building future AI.\",\n",
       " 'edited_paragraph': 'Agents play a crucial role in shaping the future of AI. While ReAct and Tool agents excel in handling numerous simple use cases effectively, it is essential to recognize that the potential of agents extends far beyond these conventional forms. Embracing a broader perspective and exploring innovative approaches beyond ReAct and Tools is vital for advancing the field of AI.',\n",
       " 'feedback': 'The original paragraph effectively conveys the importance of agents in the future of AI and highlights the limitations of relying solely on ReAct and Tool agents. The edited paragraph enhances the clarity and impact of the message by emphasizing the need to think beyond traditional agent structures. It effectively communicates the idea that exploring diverse approaches is essential for the advancement of AI technology.'}"
      ]
     },
     "execution_count": 16,
     "metadata": {},
     "output_type": "execute_result"
    }
   ],
   "execution_count": 16
  },
  {
   "metadata": {
    "ExecuteTime": {
     "end_time": "2025-05-16T08:02:48.050799Z",
     "start_time": "2025-05-16T08:02:48.044602Z"
    }
   },
   "cell_type": "code",
   "source": "out['edited_paragraph']",
   "id": "c1e662b091efdc44",
   "outputs": [
    {
     "data": {
      "text/plain": [
       "'Agents play a crucial role in shaping the future of AI. While ReAct and Tool agents excel in handling numerous simple use cases effectively, it is essential to recognize that the potential of agents extends far beyond these conventional forms. Embracing a broader perspective and exploring innovative approaches beyond ReAct and Tools is vital for advancing the field of AI.'"
      ]
     },
     "execution_count": 17,
     "metadata": {},
     "output_type": "execute_result"
    }
   ],
   "execution_count": 17
  }
 ],
 "metadata": {
  "kernelspec": {
   "display_name": "Python 3",
   "language": "python",
   "name": "python3"
  },
  "language_info": {
   "codemirror_mode": {
    "name": "ipython",
    "version": 2
   },
   "file_extension": ".py",
   "mimetype": "text/x-python",
   "name": "python",
   "nbconvert_exporter": "python",
   "pygments_lexer": "ipython2",
   "version": "2.7.6"
  }
 },
 "nbformat": 4,
 "nbformat_minor": 5
}
