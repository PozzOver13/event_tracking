{
 "cells": [
  {
   "metadata": {},
   "cell_type": "markdown",
   "source": [
    "\n",
    "## 🔍 **LangChain: Overview della libreria**\n",
    "\n",
    "### 🎯 **Perché LangChain?**\n",
    "\n",
    "LangChain, sia come **libreria Python** che come **azienda**, ha come obiettivo principale quello di **semplificare lo sviluppo di applicazioni che ragionano** utilizzando modelli linguistici di grandi dimensioni (LLM).\n",
    "\n",
    "### 💡 **Problemi chiave affrontati da LangChain**\n",
    "\n",
    "LangChain si propone di risolvere tre bisogni fondamentali nello sviluppo di applicazioni AI basate su LLM:\n",
    "\n",
    "1. **Interfacce standardizzate** per componenti riutilizzabili (prompt, LLM, memory, strumenti, agenti).\n",
    "2. **Orchestrazione** delle componenti per creare pipeline complesse.\n",
    "3. **Osservabilità e valutazione**, per monitorare e migliorare il comportamento dei modelli in produzione.\n",
    "\n",
    "\n",
    "### 🧠 **Architettura Cognitiva**\n",
    "\n",
    "LangChain adotta una **struttura modulare** in cui ogni componente dell'applicazione contribuisce a una sorta di \"architettura cognitiva\" del sistema. Queste componenti includono:\n",
    "\n",
    "* **Chains**: sequenze di chiamate a LLM o strumenti.\n",
    "* **Agents**: modelli che decidono dinamicamente quali azioni compiere.\n",
    "* **Retrievers**: moduli per il recupero di informazioni da fonti esterne.\n",
    "\n",
    "> Questi elementi **non sono legati a integrazioni specifiche**, ma sono **generici e riutilizzabili** in qualunque contesto.\n",
    "\n",
    "\n",
    "### 🔌 **Integrazioni**\n",
    "\n",
    "LangChain distingue tra il core della libreria e le integrazioni esterne. Le **integrazioni con modelli e servizi terzi** sono gestite in **pacchetti separati**, ad esempio:\n",
    "\n",
    "* `langchain-openai`\n",
    "* `langchain-anthropic`\n",
    "* `langchain-mistral`\n",
    "  Questa modularità **migliora la leggerezza** e la **gestione delle versioni**.\n",
    "\n",
    "\n",
    "### 🚀 **Funzionalità avanzate con i modelli di nuova generazione**\n",
    "\n",
    "LangChain sfrutta appieno le **API avanzate dei modelli recenti**, abilitando nuovi casi d'uso:\n",
    "\n",
    "* **Tool Calling**\n",
    "  Permette ai modelli di interagire direttamente con strumenti esterni (API, database, servizi), arricchendo il comportamento dell'agente.\n",
    "\n",
    "* **Structured Output**\n",
    "  Fa sì che il modello restituisca risposte in formati strutturati (es. JSON validati su schema), facilitando l'integrazione con pipeline software.\n",
    "\n",
    "* **Multimodalità**\n",
    "  Supporta input e output multimodali (immagini, audio, video) oltre al solo testo.\n",
    "\n",
    "\n",
    "### 📚 Risorse principali\n",
    "\n",
    "* Documentazione ufficiale: [LangChain Docs](https://python.langchain.com/docs/concepts/)\n",
    "\n",
    "\n"
   ],
   "id": "4c98285cd5298693"
  },
  {
   "metadata": {},
   "cell_type": "markdown",
   "source": "# Youtube Course \"LangChain Mastery in 2025 | Full 5 Hour Course [LangChain v0.3]\"",
   "id": "8390110f61d1a254"
  },
  {
   "cell_type": "code",
   "id": "initial_id",
   "metadata": {
    "collapsed": true,
    "ExecuteTime": {
     "end_time": "2025-05-16T07:07:29.664789Z",
     "start_time": "2025-05-16T07:07:28.373424Z"
    }
   },
   "source": [
    "from langchain_community.llms import Ollama\n",
    "\n",
    "llm = Ollama(model=\"gemma2:2b\", temperature=0)"
   ],
   "outputs": [
    {
     "name": "stderr",
     "output_type": "stream",
     "text": [
      "C:\\Users\\cg08900\\AppData\\Local\\Temp\\ipykernel_8036\\1146095574.py:8: LangChainDeprecationWarning: The class `Ollama` was deprecated in LangChain 0.3.1 and will be removed in 1.0.0. An updated version of the class exists in the :class:`~langchain-ollama package and should be used instead. To use it run `pip install -U :class:`~langchain-ollama` and import as `from :class:`~langchain_ollama import OllamaLLM``.\n",
      "  llm = Ollama(model=\"gemma2:2b\", temperature=0)\n"
     ]
    }
   ],
   "execution_count": 1
  },
  {
   "metadata": {
    "ExecuteTime": {
     "end_time": "2025-05-16T07:13:39.071027Z",
     "start_time": "2025-05-16T07:13:39.063535Z"
    }
   },
   "cell_type": "code",
   "source": [
    "article = \"\"\"\n",
    "\\\n",
    "We believe AI's short—to mid-term future belongs to agents and that the long-term future of *AGI* may evolve from agentic systems. Our definition of agents covers any neuro-symbolic system in which we merge neural AI (such as an LLM) with semi-traditional software.\n",
    "\n",
    "With agents, we allow LLMs to integrate with code — allowing AI to search the web, perform math, and essentially integrate into anything we can build with code. It should be clear the scope of use cases is phenomenal where AI can integrate with the broader world of software.\n",
    "\n",
    "In this introduction to AI agents, we will cover the essential concepts that make them what they are and why that will make them the core of real-world AI in the years to come.\n",
    "\n",
    "---\n",
    "\n",
    "## Neuro-Symbolic Systems\n",
    "\n",
    "Neuro-symbolic systems consist of both neural and symbolic computation, where:\n",
    "\n",
    "- Neural refers to LLMs, embedding models, or other neural network-based models.\n",
    "- Symbolic refers to logic containing symbolic logic, such as code.\n",
    "\n",
    "Both neural and symbolic AI originate from the early philosophical approaches to AI: connectionism (now neural) and symbolism. Symbolic AI is the more traditional AI. Diehard symbolists believed they could achieve true AGI via written rules, ontologies, and other logical functions.\n",
    "\n",
    "The other camp were the connectionists. Connectionism emerged in 1943 with a theoretical neural circuit but truly kicked off with Rosenblatt's perceptron paper in 1958 [1][2]. Both of these approaches to AI are fascinating but deserve more time than we can give them here, so we will leave further exploration of these concepts for a future chapter.\n",
    "\n",
    "Most important to us is understanding where symbolic logic outperforms neural-based compute and vice-versa.\n",
    "\n",
    "| Neural | Symbolic |\n",
    "| --- | --- |\n",
    "| Flexible, learned logic that can cover a huge range of potential scenarios. | Mostly hand-written rules which can be very granular and fine-tuned but hard to scale. |\n",
    "| Hard to interpret why a neural system does what it does. Very difficult or even impossible to predict behavior. | Rules are written and can be understood. When unsure why a particular ouput was produced we can look at the rules / logic to understand. |\n",
    "| Requires huge amount of data and compute to train state-of-the-art neural models, making it hard to add new abilities or update with new information. | Code is relatively cheap to write, it can be updated with new features easily, and latest information can often be added often instantaneously. |\n",
    "| When trained on broad datasets can often lack performance when exposed to unique scenarios that are not well represented in the training data. | Easily customized to unique scenarios. |\n",
    "| Struggles with complex computations such as mathematical operations. | Perform complex computations very quickly and accurately. |\n",
    "\n",
    "Pure neural architectures struggle with many seemingly simple tasks. For example, an LLM *cannot* provide an accurate answer if we ask it for today's date.\n",
    "\n",
    "Retrieval Augmented Generation (RAG) is commonly used to provide LLMs with up-to-date knowledge on a particular subject or access to proprietary knowledge.\n",
    "\n",
    "### Giving LLMs Superpowers\n",
    "\n",
    "By 2020, it was becoming clear that neural AI systems could not perform tasks symbolic systems typically excelled in, such as arithmetic, accessing structured DB data, or making API calls. These tasks require discrete input parameters that allow us to process them reliably according to strict written logic.\n",
    "\n",
    "In 2022, researchers at AI21 developed Jurassic-X, an LLM-based \"neuro-symbolic architecture.\" Neuro-symbolic refers to merging the \"neural computation\" of large language models (LLMs) with more traditional (i.e. symbolic) computation of code.\n",
    "\n",
    "Jurassic-X used the Modular Reasoning, Knowledge, and Language (MRKL) system [3]. The researchers developed MRKL to solve the limitations of LLMs, namely:\n",
    "\n",
    "- Lack of up-to-date knowledge, whether that is the latest in AI or something as simple as today's date.\n",
    "- Lack of proprietary knowledge, such as internal company docs or your calendar bookings.\n",
    "- Lack of reasoning, i.e. the inability to perform operations that traditional software is good at, like running complex mathematical operations.\n",
    "- Lack of ability to generalize. Back in 2022, most LLMs had to be fine-tuned to perform well in a specific domain. This problem is still present today but far less prominent as the SotA models generalize much better and, in the case of MRKL, are able to use tools relatively well (although we could certainly take the MRKL solution to improve tool use performance even today).\n",
    "\n",
    "MRKL represents one of the earliest forms of what we would now call an agent; it is an LLM (neural computation) paired with executable code (symbolic computation).\n",
    "\n",
    "## ReAct and Tools\n",
    "\n",
    "There is a misconception in the broader industry that an AI agent is an LLM contained within some looping logic that can generate inputs for and execute code functions. This definition of agents originates from the huge popularity of the ReAct agent framework and the adoption of a similar structure with function/tool calling by LLM providers such as OpenAI, Anthropic, and Ollama.\n",
    "\n",
    "![ReAct agent flow with the Reasoning-Action loop [4]. When the action chosen specifies to use a normal tool, the tool is used and the observation returned for another iteration through the Reasoning-Action loop. To return a final answer to the user the LLM must choose action \"answer\" and provide the natural language response, finishing the loop.](/images/posts/ai-agents/ai-agents-00.png)\n",
    "\n",
    "<small>ReAct agent flow with the Reasoning-Action loop [4]. When the action chosen specifies to use a normal tool, the tool is used and the observation returned for another iteration through the Reasoning-Action loop. To return a final answer to the user the LLM must choose action \"answer\" and provide the natural language response, finishing the loop.</small>\n",
    "\n",
    "Our \"neuro-symbolic\" definition is much broader but certainly does include ReAct agents and LLMs paired with tools. This agent type is the most common for now, so it's worth understanding the basic concept behind it.\n",
    "\n",
    "The **Re**ason **Act**ion (ReAct) method encourages LLMs to generate iterative *reasoning* and *action* steps. During *reasoning,* the LLM describes what steps are to be taken to answer the user's query. Then, the LLM generates an *action,* which we parse into an input to some executable code, which we typically describe as a tool/function call.\n",
    "\n",
    "![ReAct method. Each iteration includes a Reasoning step followed by an Action (tool call) step. The Observation is the output from the previous tool call. During the final iteration the agent calls the answer tool, meaning we generate the final answer for the user.](/images/posts/ai-agents/ai-agents-01.png)\n",
    "\n",
    "<small>ReAct method. Each iteration includes a Reasoning step followed by an Action (tool call) step. The Observation is the output from the previous tool call. During the final iteration the agent calls the answer tool, meaning we generate the final answer for the user.</small>\n",
    "\n",
    "Following the reason and action steps, our action tool call returns an observation. The logic returns the observation to the LLM, which is then used to generate subsequent reasoning and action steps.\n",
    "\n",
    "The ReAct loop continues until the LLM has enough information to answer the original input. Once the LLM reaches this state, it calls a special *answer* action with the generated answer for the user.\n",
    "\n",
    "## Not only LLMs and Tool Calls\n",
    "\n",
    "LLMs paired with tool calling are powerful but far from the only approach to building agents. Using the definition of neuro-symbolic, we cover architectures such as:\n",
    "\n",
    "- Multi-agent workflows that involve multiple LLM-tool (or other agent structure) combinations.\n",
    "- More deterministic workflows where we may have set neural model-tool paths that may fork or merge as the use case requires.\n",
    "- Embedding models that can detect user intents and decide tool-use or LLM selection-based selection in vector space.\n",
    "\n",
    "These are just a few high-level examples of alternative agent structures. Far from being designed for niche use cases, we find these alternative options to frequently perform better than the more common ReAct or Tool agents. We will cover all of these examples and more in future chapters.\n",
    "\n",
    "---\n",
    "\n",
    "Agents are fundamental to the future of AI, but that doesn't mean we should expect that future to come from agents in their most popular form today. ReAct and Tool agents are great and handle many simple use cases well, but the scope of agents is much broader, and we believe thinking beyond ReAct and Tools is key to building future AI.\n",
    "\n",
    "---\n",
    "\n",
    "You can sign up for the [Aurelio AI newsletter](https://b0fcw9ec53w.typeform.com/to/w2BDHVK7) to stay updated on future releases in our comprehensive course on agents.\n",
    "\n",
    "---\n",
    "\n",
    "## References\n",
    "\n",
    "[1] The curious case of Connectionism (2019) [https://www.degruyter.com/document/doi/10.1515/opphil-2019-0018/html](https://www.degruyter.com/document/doi/10.1515/opphil-2019-0018/html)\n",
    "\n",
    "[2] F. Rosenblatt, [The Perceptron: A Probabilistic Model for Information Storage and Organization in the Brain](https://www.ling.upenn.edu/courses/cogs501/Rosenblatt1958.pdf) (1958), Psychological Review\n",
    "\n",
    "[3] E. Karpas et al. [MRKL Systems: A Modular, Neuro-Symbolic Architecture That Combines Large Language Models, External Knowledge Sources and Discrete Reasoning](https://arxiv.org/abs/2205.00445) (2022), AI21 Labs\n",
    "\"\"\""
   ],
   "id": "24432c3371e854a5",
   "outputs": [],
   "execution_count": 2
  },
  {
   "metadata": {},
   "cell_type": "markdown",
   "source": "## First Prompt",
   "id": "2a705b61a585446d"
  },
  {
   "metadata": {
    "ExecuteTime": {
     "end_time": "2025-05-16T07:25:22.783065Z",
     "start_time": "2025-05-16T07:25:22.776789Z"
    }
   },
   "cell_type": "code",
   "source": [
    "from langchain.prompts import (\n",
    "    SystemMessagePromptTemplate,\n",
    "    HumanMessagePromptTemplate\n",
    ")\n",
    "\n",
    "# Defining the system prompt (how the AI should act)\n",
    "system_prompt = SystemMessagePromptTemplate.from_template(\n",
    "    \"You are an AI assistant called {name} that helps generate article titles.\",\n",
    "    input_variables=[\"name\"]\n",
    ")\n",
    "\n",
    "# the user prompt is provided by the user, in this case however the only dynamic\n",
    "# input is the article\n",
    "user_prompt = HumanMessagePromptTemplate.from_template(\n",
    "    \"\"\"You are tasked with creating a name for a article.\n",
    "The article is here for you to examine\n",
    "\n",
    "---\n",
    "{article}\n",
    "---\n",
    "\n",
    "The name should be based of the context of the article.\n",
    "Be creative, but make sure the names are clear, catchy,\n",
    "and relevant to the theme of the article.\n",
    "\n",
    "Only output the article name, no other explanation or\n",
    "text can be provided.\"\"\",\n",
    "    input_variables=[\"article\"]\n",
    ")"
   ],
   "id": "74f836198dae2e20",
   "outputs": [],
   "execution_count": 10
  },
  {
   "metadata": {
    "ExecuteTime": {
     "end_time": "2025-05-16T07:25:24.831778Z",
     "start_time": "2025-05-16T07:25:24.824330Z"
    }
   },
   "cell_type": "code",
   "source": "user_prompt.format(article=\"TEST STRING\")",
   "id": "3b2545ea01ba0a82",
   "outputs": [
    {
     "data": {
      "text/plain": [
       "HumanMessage(content='You are tasked with creating a name for a article.\\nThe article is here for you to examine\\n\\n---\\nTEST STRING\\n---\\n\\nThe name should be based of the context of the article.\\nBe creative, but make sure the names are clear, catchy,\\nand relevant to the theme of the article.\\n\\nOnly output the article name, no other explanation or\\ntext can be provided.', additional_kwargs={}, response_metadata={})"
      ]
     },
     "execution_count": 11,
     "metadata": {},
     "output_type": "execute_result"
    }
   ],
   "execution_count": 11
  },
  {
   "metadata": {
    "ExecuteTime": {
     "end_time": "2025-05-16T07:25:27.211824Z",
     "start_time": "2025-05-16T07:25:27.208312Z"
    }
   },
   "cell_type": "code",
   "source": "print(user_prompt.format(article=\"TEST STRING\").content)",
   "id": "80272c307d29aee9",
   "outputs": [
    {
     "name": "stdout",
     "output_type": "stream",
     "text": [
      "You are tasked with creating a name for a article.\n",
      "The article is here for you to examine\n",
      "\n",
      "---\n",
      "TEST STRING\n",
      "---\n",
      "\n",
      "The name should be based of the context of the article.\n",
      "Be creative, but make sure the names are clear, catchy,\n",
      "and relevant to the theme of the article.\n",
      "\n",
      "Only output the article name, no other explanation or\n",
      "text can be provided.\n"
     ]
    }
   ],
   "execution_count": 12
  },
  {
   "metadata": {
    "ExecuteTime": {
     "end_time": "2025-05-16T07:25:29.149525Z",
     "start_time": "2025-05-16T07:25:29.146510Z"
    }
   },
   "cell_type": "code",
   "source": [
    "from langchain.prompts import ChatPromptTemplate\n",
    "\n",
    "first_prompt = ChatPromptTemplate.from_messages([system_prompt, user_prompt])"
   ],
   "id": "fe5350d598b245ff",
   "outputs": [],
   "execution_count": 13
  },
  {
   "metadata": {
    "ExecuteTime": {
     "end_time": "2025-05-16T07:25:52.627058Z",
     "start_time": "2025-05-16T07:25:52.622668Z"
    }
   },
   "cell_type": "code",
   "source": "print(first_prompt.format(name=\"JARVIS\", article=\"TEST STRING\"))",
   "id": "ee083f86239be509",
   "outputs": [
    {
     "name": "stdout",
     "output_type": "stream",
     "text": [
      "System: You are an AI assistant called JARVIS that helps generate article titles.\n",
      "Human: You are tasked with creating a name for a article.\n",
      "The article is here for you to examine\n",
      "\n",
      "---\n",
      "TEST STRING\n",
      "---\n",
      "\n",
      "The name should be based of the context of the article.\n",
      "Be creative, but make sure the names are clear, catchy,\n",
      "and relevant to the theme of the article.\n",
      "\n",
      "Only output the article name, no other explanation or\n",
      "text can be provided.\n"
     ]
    }
   ],
   "execution_count": 16
  },
  {
   "metadata": {
    "ExecuteTime": {
     "end_time": "2025-05-16T07:30:56.146547Z",
     "start_time": "2025-05-16T07:30:56.142346Z"
    }
   },
   "cell_type": "code",
   "source": [
    "chain_one = (\n",
    "        {\n",
    "            \"article\": lambda x: x[\"article\"],\n",
    "            \"name\": lambda x: x[\"name\"]\n",
    "        }\n",
    "        | first_prompt\n",
    "        | llm\n",
    "        | {\"article_title\": lambda x: x}\n",
    ")"
   ],
   "id": "50c1506a3926ff12",
   "outputs": [],
   "execution_count": 19
  },
  {
   "metadata": {
    "ExecuteTime": {
     "end_time": "2025-05-16T07:31:00.732857Z",
     "start_time": "2025-05-16T07:30:59.260347Z"
    }
   },
   "cell_type": "code",
   "source": [
    "input_chain = {\"article\": article,\n",
    "               \"name\": \"JARVIS\"}\n",
    "article_title_msg = chain_one.invoke(input_chain)\n",
    "article_title_msg"
   ],
   "id": "a1a0239f3a956dc3",
   "outputs": [
    {
     "data": {
      "text/plain": [
       "{'article_title': '## Neuro-Symbolic Agents: The Future of AI \\n'}"
      ]
     },
     "execution_count": 20,
     "metadata": {},
     "output_type": "execute_result"
    }
   ],
   "execution_count": 20
  },
  {
   "metadata": {},
   "cell_type": "markdown",
   "source": "## Second Prompt",
   "id": "edb88303b63ae57d"
  },
  {
   "metadata": {
    "ExecuteTime": {
     "end_time": "2025-05-16T07:34:23.937239Z",
     "start_time": "2025-05-16T07:34:23.931967Z"
    }
   },
   "cell_type": "code",
   "source": [
    "second_user_prompt = HumanMessagePromptTemplate.from_template(\n",
    "    \"\"\"You are tasked with creating a description for\n",
    "the article. The article is here for you to examine:\n",
    "\n",
    "---\n",
    "\n",
    "{article}\n",
    "\n",
    "---\n",
    "\n",
    "Here is the article title '{article_title}'.\n",
    "\n",
    "Output the SEO friendly article description. Do not output\n",
    "anything other than the description.\"\"\",\n",
    "    input_variables=[\"article\", \"article_title\"]\n",
    ")\n",
    "\n",
    "second_prompt = ChatPromptTemplate.from_messages([\n",
    "    system_prompt,\n",
    "    second_user_prompt\n",
    "])"
   ],
   "id": "afa8a6c2c856cd0",
   "outputs": [],
   "execution_count": 21
  },
  {
   "metadata": {
    "ExecuteTime": {
     "end_time": "2025-05-16T07:35:13.218458Z",
     "start_time": "2025-05-16T07:35:13.215044Z"
    }
   },
   "cell_type": "code",
   "source": [
    "chain_two = (\n",
    "        {\n",
    "            \"name\": lambda x: x[\"name\"],\n",
    "            \"article\": lambda x: x[\"article\"],\n",
    "            \"article_title\": lambda x: x[\"article_title\"]\n",
    "        }\n",
    "        | second_prompt\n",
    "        | llm\n",
    "        | {\"summary\": lambda x: x}\n",
    ")"
   ],
   "id": "4ec498d67ddf646a",
   "outputs": [],
   "execution_count": 23
  },
  {
   "metadata": {
    "ExecuteTime": {
     "end_time": "2025-05-16T07:36:51.738423Z",
     "start_time": "2025-05-16T07:35:41.727898Z"
    }
   },
   "cell_type": "code",
   "source": [
    "article_description_msg = chain_two.invoke({\n",
    "    \"name\": \"JARVIS\",\n",
    "    \"article\": article,\n",
    "    \"article_title\": article_title_msg[\"article_title\"]\n",
    "})\n",
    "article_description_msg"
   ],
   "id": "766f125863828738",
   "outputs": [
    {
     "data": {
      "text/plain": [
       "{'summary': 'Unlock the potential of AI with neuro-symbolic agents, the future of intelligent systems! This article explores how merging neural AI (like LLMs) with symbolic logic unlocks unprecedented capabilities for real-world applications. Discover the power of ReAct and tool-based agents, learn about alternative agent structures, and delve into the exciting world of neuro-symbolic AI.  \\n'}"
      ]
     },
     "execution_count": 24,
     "metadata": {},
     "output_type": "execute_result"
    }
   ],
   "execution_count": 24
  },
  {
   "metadata": {
    "ExecuteTime": {
     "end_time": "2025-05-16T07:39:16.549022Z",
     "start_time": "2025-05-16T07:39:16.543914Z"
    }
   },
   "cell_type": "code",
   "source": [
    "third_user_prompt = HumanMessagePromptTemplate.from_template(\n",
    "    \"\"\"You are tasked with creating a new paragraph for the\n",
    "article. The article is here for you to examine:\n",
    "\n",
    "---\n",
    "\n",
    "{article}\n",
    "\n",
    "---\n",
    "\n",
    "Choose one paragraph to review and edit. During your edit\n",
    "ensure you provide constructive feedback to the user so they\n",
    "can learn where to improve their own writing.\"\"\",\n",
    "    input_variables=[\"article\"]\n",
    ")\n",
    "\n",
    "# prompt template 3: creating a new paragraph for the article\n",
    "third_prompt = ChatPromptTemplate.from_messages([\n",
    "    system_prompt,\n",
    "    third_user_prompt\n",
    "])"
   ],
   "id": "8b197787cbc2151c",
   "outputs": [],
   "execution_count": 25
  },
  {
   "metadata": {
    "ExecuteTime": {
     "end_time": "2025-05-16T07:39:30.630245Z",
     "start_time": "2025-05-16T07:39:30.579051Z"
    }
   },
   "cell_type": "code",
   "source": [
    "from pydantic import BaseModel, Field\n",
    "\n",
    "class Paragraph(BaseModel):\n",
    "    original_paragraph: str = Field(description=\"The original paragraph\")\n",
    "    edited_paragraph: str = Field(description=\"The improved edited paragraph\")\n",
    "    feedback: str = Field(description=(\n",
    "        \"Constructive feedback on the original paragraph\"\n",
    "    ))\n",
    "\n",
    "structured_llm = llm.with_structured_output(Paragraph)"
   ],
   "id": "81f67aaad8a039a9",
   "outputs": [
    {
     "ename": "NotImplementedError",
     "evalue": "",
     "output_type": "error",
     "traceback": [
      "\u001B[31m---------------------------------------------------------------------------\u001B[39m",
      "\u001B[31mNotImplementedError\u001B[39m                       Traceback (most recent call last)",
      "\u001B[36mCell\u001B[39m\u001B[36m \u001B[39m\u001B[32mIn[26]\u001B[39m\u001B[32m, line 10\u001B[39m\n\u001B[32m      5\u001B[39m     edited_paragraph: \u001B[38;5;28mstr\u001B[39m = Field(description=\u001B[33m\"\u001B[39m\u001B[33mThe improved edited paragraph\u001B[39m\u001B[33m\"\u001B[39m)\n\u001B[32m      6\u001B[39m     feedback: \u001B[38;5;28mstr\u001B[39m = Field(description=(\n\u001B[32m      7\u001B[39m         \u001B[33m\"\u001B[39m\u001B[33mConstructive feedback on the original paragraph\u001B[39m\u001B[33m\"\u001B[39m\n\u001B[32m      8\u001B[39m     ))\n\u001B[32m---> \u001B[39m\u001B[32m10\u001B[39m structured_llm = \u001B[43mllm\u001B[49m\u001B[43m.\u001B[49m\u001B[43mwith_structured_output\u001B[49m\u001B[43m(\u001B[49m\u001B[43mParagraph\u001B[49m\u001B[43m)\u001B[49m\n",
      "\u001B[36mFile \u001B[39m\u001B[32m~\\Documents\\Pandora\\github\\event_tracking\\.venv\\Lib\\site-packages\\langchain_core\\language_models\\base.py:242\u001B[39m, in \u001B[36mBaseLanguageModel.with_structured_output\u001B[39m\u001B[34m(self, schema, **kwargs)\u001B[39m\n\u001B[32m    239\u001B[39m \u001B[38;5;250m\u001B[39m\u001B[33;03m\"\"\"Not implemented on this class.\"\"\"\u001B[39;00m\n\u001B[32m    240\u001B[39m \u001B[38;5;66;03m# Implement this on child class if there is a way of steering the model to\u001B[39;00m\n\u001B[32m    241\u001B[39m \u001B[38;5;66;03m# generate responses that match a given schema.\u001B[39;00m\n\u001B[32m--> \u001B[39m\u001B[32m242\u001B[39m \u001B[38;5;28;01mraise\u001B[39;00m \u001B[38;5;167;01mNotImplementedError\u001B[39;00m\n",
      "\u001B[31mNotImplementedError\u001B[39m: "
     ]
    }
   ],
   "execution_count": 26
  }
 ],
 "metadata": {
  "kernelspec": {
   "display_name": "Python 3",
   "language": "python",
   "name": "python3"
  },
  "language_info": {
   "codemirror_mode": {
    "name": "ipython",
    "version": 2
   },
   "file_extension": ".py",
   "mimetype": "text/x-python",
   "name": "python",
   "nbconvert_exporter": "python",
   "pygments_lexer": "ipython2",
   "version": "2.7.6"
  }
 },
 "nbformat": 4,
 "nbformat_minor": 5
}
