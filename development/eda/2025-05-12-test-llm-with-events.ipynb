{
 "cells": [
  {
   "metadata": {},
   "cell_type": "markdown",
   "source": "# Test LLM with Events",
   "id": "82722aa0323a7636"
  },
  {
   "metadata": {},
   "cell_type": "markdown",
   "source": "## Primo test",
   "id": "bbb4f97672491500"
  },
  {
   "metadata": {
    "collapsed": true,
    "ExecuteTime": {
     "end_time": "2025-05-12T15:45:02.521588Z",
     "start_time": "2025-05-12T15:44:03.287065Z"
    }
   },
   "cell_type": "code",
   "source": [
    "import os\n",
    "import openai\n",
    "import pandas as pd\n",
    "\n",
    "from IPython.display import Markdown, display\n",
    "\n",
    "from langchain_community.llms import Ollama\n",
    "from langchain_openai import ChatOpenAI\n",
    "\n",
    "from event_tracking.components.event_analyzer import *\n",
    "from event_tracking.config import RAW_DATA_DIR\n",
    "\n",
    "llm_local = False\n",
    "question = \"Quali sono i 3 principali attività per un data scientist?\"\n",
    "\n",
    "if llm_local:\n",
    "    llm = Ollama(model=\"gemma2:2b\")\n",
    "    # Semplice test diretto\n",
    "    response_output = llm.invoke(question)\n",
    "else:\n",
    "    from dotenv import load_dotenv, find_dotenv\n",
    "    _ = load_dotenv(find_dotenv()) # read local .env file\n",
    "    openai.api_key = os.environ['OPENAI_API_KEY']\n",
    "\n",
    "    llm = ChatOpenAI(model_name=\"gpt-3.5-turbo\", temperature=0)\n",
    "\n",
    "    # Semplice test diretto\n",
    "    response = llm.invoke(question)\n",
    "    response_output = response.content\n",
    "\n",
    "display(Markdown(f\"\"\"\n",
    "## Risposta LLM\n",
    "\n",
    "{response_output}\n",
    "\"\"\"))"
   ],
   "id": "initial_id",
   "outputs": [
    {
     "data": {
      "text/plain": [
       "<IPython.core.display.Markdown object>"
      ],
      "text/markdown": "\n## Risposta LLM\n\nI 3 principali attività di un Data Scientist possono essere riassunte in questi punti:\n\n**1. Analisi dei dati:**\n\n* **Raccolta e pulizia dei dati:**  Il Data Scientist inizia la sua analisi con l'acquisizione e la preparazione di dati provenienti da diverse fonti. Questo richiede competenze di programmazione, database e pulizia di dati per rimuovere errori, duplicazioni o valori anomali.\n* **Exploratory data analysis (EDA):**  Attraverso l'esplorazione dei dati, il Data Scientist cerca di comprendere la struttura, i pattern e le tendenze presenti nei dati. Questo include la generazione di grafici, statistiche descriptive e l'utilizzo di tecniche come la regressione per prevedere valori.\n* **Modellazione:** L'obiettivo è identificare modelli che descrivano le relazioni tra variabili e fornire previsioni sui risultati futuri. Utilizza algoritmi statistici e machine learning per creare modelli, classificazione, previsione o clustering.\n\n**2. Interpretazione dei risultati:** \n\n* **Presentazione dei risultati:**  I Data Scientist devono saper comunicare i loro risultati in modo chiaro e comprensibile a un pubblico non specializzato. Questo richiede una buona capacità di scrittura e presentazione, con l'uso di grafici e diagrammi per illustrare le relazioni tra variabili.\n* **Valutazione del modello:**  Il Data Scientist deve verificare la qualità dei suoi modelli, utilizzando metriche predefinite come accuracy, precision, recall e F1-score. \n* **Analisi critica:**  L'analisi critica si basa sulla capacità di individuare potenziali problemi nel dataset o nel modello stesso. La capacità di comprendere i limiti del modello e le sfide future è fondamentale per il successo di un Data Scientist.\n\n**3. Implementazione:**\n\n* **Sviluppo di soluzione:**  Il Data Scientist deve utilizzare la sua conoscenza dei dati, dei modelli e delle tecniche per sviluppare soluzioni applicabili a problemi reali. Questo include la creazione di strumenti, dashboard e report per fornire insights utili alle decisioni aziendali.\n* **Mantenimento del modello:** La manutenzione del modello è fondamentale per garantire la sua efficacia nel tempo.  Questo comporta l'aggiornamento dei dati, la correzione di errori e la verifica della performance del modello. \n\nRicorda che queste sono solo alcune delle attività principali, il Data Scientist può anche svolgere altri compiti come la ricerca su nuove tecnologie o la collaborazione con altri professionisti per sviluppare soluzioni innovative.\n\n"
     },
     "metadata": {},
     "output_type": "display_data"
    }
   ],
   "execution_count": 2
  },
  {
   "metadata": {
    "ExecuteTime": {
     "end_time": "2025-05-12T15:45:02.806007Z",
     "start_time": "2025-05-12T15:45:02.550922Z"
    }
   },
   "cell_type": "code",
   "source": [
    "file_path = os.path.join(RAW_DATA_DIR, 'my_calendar_db_20250508.parquet')\n",
    "\n",
    "df = pd.read_parquet(file_path)"
   ],
   "id": "8e57eb881bc44e0c",
   "outputs": [],
   "execution_count": 3
  },
  {
   "metadata": {
    "ExecuteTime": {
     "end_time": "2025-05-12T15:45:02.830702Z",
     "start_time": "2025-05-12T15:45:02.811739Z"
    }
   },
   "cell_type": "code",
   "source": [
    "df_work = (\n",
    "        df\n",
    "        .loc[(df[\"calendar_name\"] == \"Pozz Work\"), :]\n",
    "        # .head()\n",
    "    )"
   ],
   "id": "df9ac51b5dbda542",
   "outputs": [],
   "execution_count": 4
  },
  {
   "metadata": {
    "ExecuteTime": {
     "end_time": "2025-05-12T15:45:02.885907Z",
     "start_time": "2025-05-12T15:45:02.861531Z"
    }
   },
   "cell_type": "code",
   "source": "category_analysis = analyze_event_categories(df_work)",
   "id": "c721f89d79af023c",
   "outputs": [],
   "execution_count": 5
  },
  {
   "metadata": {
    "ExecuteTime": {
     "end_time": "2025-05-12T15:45:02.940701Z",
     "start_time": "2025-05-12T15:45:02.909189Z"
    }
   },
   "cell_type": "code",
   "source": "ollama_analyzer = create_ollama_analyzer(llm_initialized=llm)",
   "id": "82985313975b6379",
   "outputs": [
    {
     "name": "stderr",
     "output_type": "stream",
     "text": [
      "C:\\Users\\cg08900\\Documents\\Pandora\\github\\event_tracking\\event_tracking\\components\\event_analyzer.py:50: LangChainDeprecationWarning: The class `LLMChain` was deprecated in LangChain 0.1.17 and will be removed in 1.0. Use :meth:`~RunnableSequence, e.g., `prompt | llm`` instead.\n",
      "  return LLMChain(llm=llm_initialized, prompt=prompt_template)\n"
     ]
    }
   ],
   "execution_count": 6
  },
  {
   "metadata": {
    "ExecuteTime": {
     "end_time": "2025-05-12T15:46:22.217939Z",
     "start_time": "2025-05-12T15:45:02.986241Z"
    }
   },
   "cell_type": "code",
   "source": [
    "# Esecuzione dell'analisi con Ollama\n",
    "ollama_analysis = ollama_analyzer.run({\n",
    "    \"categories\": str(category_analysis['counts']),\n",
    "    \"total_time\": df_work['duration_minutes'].sum(),\n",
    "    \"top_categories\": str(dict(sorted(category_analysis['percentage'].items(),\n",
    "                                      key=lambda x: x[1],\n",
    "                                      reverse=True)[:3]))\n",
    "})"
   ],
   "id": "224344c421509aab",
   "outputs": [
    {
     "name": "stderr",
     "output_type": "stream",
     "text": [
      "C:\\Users\\cg08900\\AppData\\Local\\Temp\\ipykernel_20924\\2749007739.py:2: LangChainDeprecationWarning: The method `Chain.run` was deprecated in langchain 0.1.0 and will be removed in 1.0. Use :meth:`~invoke` instead.\n",
      "  ollama_analysis = ollama_analyzer.run({\n"
     ]
    }
   ],
   "execution_count": 7
  },
  {
   "metadata": {
    "ExecuteTime": {
     "end_time": "2025-05-12T15:46:22.289042Z",
     "start_time": "2025-05-12T15:46:22.277298Z"
    }
   },
   "cell_type": "code",
   "source": [
    "display(Markdown(f\"\"\"\n",
    "## Insights LLM sull'Utilizzo del Tempo\n",
    "\n",
    "{ollama_analysis}\n",
    "\"\"\"))"
   ],
   "id": "a04c798847c35ac2",
   "outputs": [
    {
     "data": {
      "text/plain": [
       "<IPython.core.display.Markdown object>"
      ],
      "text/markdown": "\n## Insights LLM sull'Utilizzo del Tempo\n\n## Analisi del Profilo Temporale degli Eventi\n\nIl tuo profilo temporale evidenzia una distribuzione significativa dei tuoi impegni su diversi settori. \n\n**1. Le principali categorie:**\n\n* **\"avm-property-value\"**: occupa il maggior share del tempo analizzato (37.71%), suggerendo un'enfasi particolare su questa categoria. Questo potrebbe indicare un'attività specifica, come la gestione di immobili o la valutazione delle proprietà. \n    * **Suggerimento:** Considera se la tua attenzione all’ambito \"avm-property-value\" è ottimale in base alle tue priorità e obiettivi a breve/lungo termine. Se c'è spazio per un maggiore flusso di lavoro su altri ambiti, potrebbe essere utile spostare tempo e risorse in questi settori per una migliore performance complessiva.\n* **\"other\"**: rappresenta il 9.58% del tempo analizzato, suggerendo l'assenza di un'area specifica con un livello di focus elevato. \n    * **Suggerimento:**  Verificare se ci sono attività che richiedono un’attenzione più costante, come la gestione dei contatti o la creazione di nuove strategie, per ottimizzare il flusso di lavoro.\n* **\"avm-meetings\"**: occupa il 8.97% del tempo analizzato, evidenziando la necessità di organizzazione e priorità per questo tipo di attività. \n    * **Suggerimento:**  Valuta l'organizzazione delle tue riunioni previste: ottimizza le interazioni tra i partecipanti, limita il numero di meeting superflui, e concentrati su quelli più importanti. \n\n\n**2. Pattern significativi:**\n\n* La differenza di focus tra \"avm-property-value\" e \"other\", con un aumento del tempo dedicato a \"avm-meetings\", potrebbe indicare una particolare fase di sviluppo o un'attività di consolidamento. \n* L’abbondanza di eventi relativi a **finbox** (gara-mcc, deploy-affordability, privati) e **side-project-tools-n-pipeline** suggerisce un focus sulla gestione delle attività finanziarie ed il potenziale per sviluppare nuove tecnologie o soluzioni.\n\n**3. Suggerimenti per un migliore utilizzo del tempo:**\n\n* **Priorità**:  Stabilisci una priorità per ogni categoria di eventi. Concentrati su quelle con maggiori probabilità di successo e che riflettono i tuoi obiettivi a breve/lungo termine.\n* **Organizzazione**:  Utilizza strumenti come calendari, liste di attività o software di gestione del tempo per organizzare e pianificare le tue attività in modo più efficace.\n* **Delega**: Se possibile, delegare alcune attività ad altri membri del team o alla società.\n* **Stima Tempo**: Assegna tempi realistici alle attività per evitare sovraccarico e stress.\n\n\n**Conclusioni:**\n\nAnalizzando il tuo profilo temporale, è evidente un'ampia gamma di attività con un focus specifico su \"avm-property-value\". Prendendo in considerazione i pattern significativi e seguendo gli suggerimenti, potrai ottimizzare il tuo tempo e raggiungere un maggiore successo. \n\n\n\n\n"
     },
     "metadata": {},
     "output_type": "display_data"
    }
   ],
   "execution_count": 8
  },
  {
   "metadata": {},
   "cell_type": "markdown",
   "source": "## Secondo test",
   "id": "5d2ed90f2313cba4"
  },
  {
   "metadata": {},
   "cell_type": "code",
   "outputs": [],
   "execution_count": null,
   "source": "",
   "id": "f70567abe0281c2e"
  }
 ],
 "metadata": {
  "kernelspec": {
   "display_name": "Python 3",
   "language": "python",
   "name": "python3"
  },
  "language_info": {
   "codemirror_mode": {
    "name": "ipython",
    "version": 2
   },
   "file_extension": ".py",
   "mimetype": "text/x-python",
   "name": "python",
   "nbconvert_exporter": "python",
   "pygments_lexer": "ipython2",
   "version": "2.7.6"
  }
 },
 "nbformat": 4,
 "nbformat_minor": 5
}
